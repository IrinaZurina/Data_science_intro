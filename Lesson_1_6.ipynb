{
 "cells": [
  {
   "cell_type": "code",
   "execution_count": 1,
   "metadata": {
    "collapsed": true
   },
   "outputs": [],
   "source": [
    "import pandas as pd\n",
    "import numpy as np\n",
    "\n",
    "students_performance = pd.read_csv('https://stepik.org/media/attachments/course/4852/StudentsPerformance.csv')"
   ]
  },
  {
   "cell_type": "code",
   "execution_count": 4,
   "outputs": [
    {
     "data": {
      "text/plain": "   gender race/ethnicity parental_level_of_education         lunch  \\\n0  female        group B           bachelor's degree      standard   \n1  female        group C                some college      standard   \n2  female        group B             master's degree      standard   \n3    male        group A          associate's degree  free/reduced   \n4    male        group C                some college      standard   \n\n  test_preparation_course  math_score  reading_score  writing_score  \n0                    none          72             72             74  \n1               completed          69             90             88  \n2                    none          90             95             93  \n3                    none          47             57             44  \n4                    none          76             78             75  ",
      "text/html": "<div>\n<style scoped>\n    .dataframe tbody tr th:only-of-type {\n        vertical-align: middle;\n    }\n\n    .dataframe tbody tr th {\n        vertical-align: top;\n    }\n\n    .dataframe thead th {\n        text-align: right;\n    }\n</style>\n<table border=\"1\" class=\"dataframe\">\n  <thead>\n    <tr style=\"text-align: right;\">\n      <th></th>\n      <th>gender</th>\n      <th>race/ethnicity</th>\n      <th>parental_level_of_education</th>\n      <th>lunch</th>\n      <th>test_preparation_course</th>\n      <th>math_score</th>\n      <th>reading_score</th>\n      <th>writing_score</th>\n    </tr>\n  </thead>\n  <tbody>\n    <tr>\n      <th>0</th>\n      <td>female</td>\n      <td>group B</td>\n      <td>bachelor's degree</td>\n      <td>standard</td>\n      <td>none</td>\n      <td>72</td>\n      <td>72</td>\n      <td>74</td>\n    </tr>\n    <tr>\n      <th>1</th>\n      <td>female</td>\n      <td>group C</td>\n      <td>some college</td>\n      <td>standard</td>\n      <td>completed</td>\n      <td>69</td>\n      <td>90</td>\n      <td>88</td>\n    </tr>\n    <tr>\n      <th>2</th>\n      <td>female</td>\n      <td>group B</td>\n      <td>master's degree</td>\n      <td>standard</td>\n      <td>none</td>\n      <td>90</td>\n      <td>95</td>\n      <td>93</td>\n    </tr>\n    <tr>\n      <th>3</th>\n      <td>male</td>\n      <td>group A</td>\n      <td>associate's degree</td>\n      <td>free/reduced</td>\n      <td>none</td>\n      <td>47</td>\n      <td>57</td>\n      <td>44</td>\n    </tr>\n    <tr>\n      <th>4</th>\n      <td>male</td>\n      <td>group C</td>\n      <td>some college</td>\n      <td>standard</td>\n      <td>none</td>\n      <td>76</td>\n      <td>78</td>\n      <td>75</td>\n    </tr>\n  </tbody>\n</table>\n</div>"
     },
     "execution_count": 4,
     "metadata": {},
     "output_type": "execute_result"
    }
   ],
   "source": [
    "students_performance = students_performance \\\n",
    "                                    .rename(columns=\n",
    "                                            {'parental level of education': 'parental_level_of_education',\n",
    "                                            'test preparation course': 'test_preparation_course',\n",
    "                                            'math score': 'math_score',\n",
    "                                            'reading score': 'reading_score',\n",
    "                                            'writing score': 'writing_score'})\n",
    "students_performance.head()"
   ],
   "metadata": {
    "collapsed": false
   }
  },
  {
   "cell_type": "code",
   "execution_count": 3,
   "outputs": [
    {
     "name": "stderr",
     "output_type": "stream",
     "text": [
      "C:\\Users\\Ira Zurina\\AppData\\Local\\Temp\\ipykernel_14932\\920393742.py:2: FutureWarning: The default value of numeric_only in DataFrameGroupBy.mean is deprecated. In a future version, numeric_only will default to False. Either specify numeric_only or select only columns which should be valid for the function.\n",
      "  students_performance.groupby('gender').mean()\n"
     ]
    },
    {
     "data": {
      "text/plain": "        math score  reading score  writing score\ngender                                          \nfemale   63.633205      72.608108      72.467181\nmale     68.728216      65.473029      63.311203",
      "text/html": "<div>\n<style scoped>\n    .dataframe tbody tr th:only-of-type {\n        vertical-align: middle;\n    }\n\n    .dataframe tbody tr th {\n        vertical-align: top;\n    }\n\n    .dataframe thead th {\n        text-align: right;\n    }\n</style>\n<table border=\"1\" class=\"dataframe\">\n  <thead>\n    <tr style=\"text-align: right;\">\n      <th></th>\n      <th>math score</th>\n      <th>reading score</th>\n      <th>writing score</th>\n    </tr>\n    <tr>\n      <th>gender</th>\n      <th></th>\n      <th></th>\n      <th></th>\n    </tr>\n  </thead>\n  <tbody>\n    <tr>\n      <th>female</th>\n      <td>63.633205</td>\n      <td>72.608108</td>\n      <td>72.467181</td>\n    </tr>\n    <tr>\n      <th>male</th>\n      <td>68.728216</td>\n      <td>65.473029</td>\n      <td>63.311203</td>\n    </tr>\n  </tbody>\n</table>\n</div>"
     },
     "execution_count": 3,
     "metadata": {},
     "output_type": "execute_result"
    }
   ],
   "source": [
    "# надо посчитать средние значения оценок в зависимости от пола студентов. Для этого понадобится группировка и к примененная к ней ф-ция, например для поиска среднего:\n",
    "students_performance.groupby('gender').mean()"
   ],
   "metadata": {
    "collapsed": false
   }
  },
  {
   "cell_type": "code",
   "execution_count": 7,
   "outputs": [
    {
     "data": {
      "text/plain": "   gender  mean_math_score  mean_reading_score\n0  female        63.633205           72.608108\n1    male        68.728216           65.473029",
      "text/html": "<div>\n<style scoped>\n    .dataframe tbody tr th:only-of-type {\n        vertical-align: middle;\n    }\n\n    .dataframe tbody tr th {\n        vertical-align: top;\n    }\n\n    .dataframe thead th {\n        text-align: right;\n    }\n</style>\n<table border=\"1\" class=\"dataframe\">\n  <thead>\n    <tr style=\"text-align: right;\">\n      <th></th>\n      <th>gender</th>\n      <th>mean_math_score</th>\n      <th>mean_reading_score</th>\n    </tr>\n  </thead>\n  <tbody>\n    <tr>\n      <th>0</th>\n      <td>female</td>\n      <td>63.633205</td>\n      <td>72.608108</td>\n    </tr>\n    <tr>\n      <th>1</th>\n      <td>male</td>\n      <td>68.728216</td>\n      <td>65.473029</td>\n    </tr>\n  </tbody>\n</table>\n</div>"
     },
     "execution_count": 7,
     "metadata": {},
     "output_type": "execute_result"
    }
   ],
   "source": [
    "# а можно дополнительно сагрегировать нужные нам на выходе данные и указать для какого столбца, что хотим рассчитать\n",
    "students_performance.groupby('gender').aggregate({'math_score': 'mean', 'reading_score': 'mean'})\n",
    "# результатом будет пандовский датафрейм, в которм индексом стала колонка с полом. Этого можно избежать, добавив еще один аргумент as_index:\n",
    "students_performance.groupby('gender', as_index=False) \\\n",
    "    .aggregate({'math_score': 'mean', 'reading_score': 'mean'})\n",
    "# в дополнение к этому можно переименовать получившиеся колонки:\n",
    "students_performance.groupby('gender', as_index=False) \\\n",
    "    .aggregate({'math_score': 'mean', 'reading_score': 'mean'}) \\\n",
    "    .rename(columns={'math_score': 'mean_math_score', 'reading_score':  'mean_reading_score'})"
   ],
   "metadata": {
    "collapsed": false
   }
  },
  {
   "cell_type": "code",
   "execution_count": 8,
   "outputs": [
    {
     "data": {
      "text/plain": "   gender race/ethnicity  mean_math_score  mean_reading_score\n0  female        group A        58.527778           69.000000\n1  female        group B        61.403846           71.076923\n2  female        group C        62.033333           71.944444\n3  female        group D        65.248062           74.046512\n4  female        group E        70.811594           75.840580\n5    male        group A        63.735849           61.735849\n6    male        group B        65.930233           62.848837\n7    male        group C        67.611511           65.424460\n8    male        group D        69.413534           66.135338\n9    male        group E        76.746479           70.295775",
      "text/html": "<div>\n<style scoped>\n    .dataframe tbody tr th:only-of-type {\n        vertical-align: middle;\n    }\n\n    .dataframe tbody tr th {\n        vertical-align: top;\n    }\n\n    .dataframe thead th {\n        text-align: right;\n    }\n</style>\n<table border=\"1\" class=\"dataframe\">\n  <thead>\n    <tr style=\"text-align: right;\">\n      <th></th>\n      <th>gender</th>\n      <th>race/ethnicity</th>\n      <th>mean_math_score</th>\n      <th>mean_reading_score</th>\n    </tr>\n  </thead>\n  <tbody>\n    <tr>\n      <th>0</th>\n      <td>female</td>\n      <td>group A</td>\n      <td>58.527778</td>\n      <td>69.000000</td>\n    </tr>\n    <tr>\n      <th>1</th>\n      <td>female</td>\n      <td>group B</td>\n      <td>61.403846</td>\n      <td>71.076923</td>\n    </tr>\n    <tr>\n      <th>2</th>\n      <td>female</td>\n      <td>group C</td>\n      <td>62.033333</td>\n      <td>71.944444</td>\n    </tr>\n    <tr>\n      <th>3</th>\n      <td>female</td>\n      <td>group D</td>\n      <td>65.248062</td>\n      <td>74.046512</td>\n    </tr>\n    <tr>\n      <th>4</th>\n      <td>female</td>\n      <td>group E</td>\n      <td>70.811594</td>\n      <td>75.840580</td>\n    </tr>\n    <tr>\n      <th>5</th>\n      <td>male</td>\n      <td>group A</td>\n      <td>63.735849</td>\n      <td>61.735849</td>\n    </tr>\n    <tr>\n      <th>6</th>\n      <td>male</td>\n      <td>group B</td>\n      <td>65.930233</td>\n      <td>62.848837</td>\n    </tr>\n    <tr>\n      <th>7</th>\n      <td>male</td>\n      <td>group C</td>\n      <td>67.611511</td>\n      <td>65.424460</td>\n    </tr>\n    <tr>\n      <th>8</th>\n      <td>male</td>\n      <td>group D</td>\n      <td>69.413534</td>\n      <td>66.135338</td>\n    </tr>\n    <tr>\n      <th>9</th>\n      <td>male</td>\n      <td>group E</td>\n      <td>76.746479</td>\n      <td>70.295775</td>\n    </tr>\n  </tbody>\n</table>\n</div>"
     },
     "execution_count": 8,
     "metadata": {},
     "output_type": "execute_result"
    }
   ],
   "source": [
    "# группировать можно по нескольким параметрам, для этого их надо передать в виде списка:\n",
    "students_performance.groupby(['gender', 'race/ethnicity'], as_index=False) \\\n",
    "    .aggregate({'math_score': 'mean', 'reading_score': 'mean'}) \\\n",
    "    .rename(columns={'math_score': 'mean_math_score', 'reading_score':  'mean_reading_score'})"
   ],
   "metadata": {
    "collapsed": false
   }
  },
  {
   "cell_type": "code",
   "execution_count": 12,
   "outputs": [
    {
     "data": {
      "text/plain": "                       mean_math_score  mean_reading_score\ngender race/ethnicity                                     \nfemale group A               58.527778           69.000000\n       group B               61.403846           71.076923\n       group C               62.033333           71.944444\n       group D               65.248062           74.046512\n       group E               70.811594           75.840580\nmale   group A               63.735849           61.735849\n       group B               65.930233           62.848837\n       group C               67.611511           65.424460\n       group D               69.413534           66.135338\n       group E               76.746479           70.295775",
      "text/html": "<div>\n<style scoped>\n    .dataframe tbody tr th:only-of-type {\n        vertical-align: middle;\n    }\n\n    .dataframe tbody tr th {\n        vertical-align: top;\n    }\n\n    .dataframe thead th {\n        text-align: right;\n    }\n</style>\n<table border=\"1\" class=\"dataframe\">\n  <thead>\n    <tr style=\"text-align: right;\">\n      <th></th>\n      <th></th>\n      <th>mean_math_score</th>\n      <th>mean_reading_score</th>\n    </tr>\n    <tr>\n      <th>gender</th>\n      <th>race/ethnicity</th>\n      <th></th>\n      <th></th>\n    </tr>\n  </thead>\n  <tbody>\n    <tr>\n      <th rowspan=\"5\" valign=\"top\">female</th>\n      <th>group A</th>\n      <td>58.527778</td>\n      <td>69.000000</td>\n    </tr>\n    <tr>\n      <th>group B</th>\n      <td>61.403846</td>\n      <td>71.076923</td>\n    </tr>\n    <tr>\n      <th>group C</th>\n      <td>62.033333</td>\n      <td>71.944444</td>\n    </tr>\n    <tr>\n      <th>group D</th>\n      <td>65.248062</td>\n      <td>74.046512</td>\n    </tr>\n    <tr>\n      <th>group E</th>\n      <td>70.811594</td>\n      <td>75.840580</td>\n    </tr>\n    <tr>\n      <th rowspan=\"5\" valign=\"top\">male</th>\n      <th>group A</th>\n      <td>63.735849</td>\n      <td>61.735849</td>\n    </tr>\n    <tr>\n      <th>group B</th>\n      <td>65.930233</td>\n      <td>62.848837</td>\n    </tr>\n    <tr>\n      <th>group C</th>\n      <td>67.611511</td>\n      <td>65.424460</td>\n    </tr>\n    <tr>\n      <th>group D</th>\n      <td>69.413534</td>\n      <td>66.135338</td>\n    </tr>\n    <tr>\n      <th>group E</th>\n      <td>76.746479</td>\n      <td>70.295775</td>\n    </tr>\n  </tbody>\n</table>\n</div>"
     },
     "execution_count": 12,
     "metadata": {},
     "output_type": "execute_result"
    }
   ],
   "source": [
    "#Если в предыдщем запросе убрать as_index, то у полчившегося датафрейма будет мультииндекс, состоящий из пола и расы, и обращаться к нему надо будет через мультииндекс:\n",
    "mean_scores = students_performance.groupby(['gender', 'race/ethnicity']) \\\n",
    "    .aggregate({'math_score': 'mean', 'reading_score': 'mean'}) \\\n",
    "    .rename(columns={'math_score': 'mean_math_score', 'reading_score':  'mean_reading_score'})\n",
    "mean_scores\n",
    "# Но такого лучше избегать, так как это усложнит работу с данными"
   ],
   "metadata": {
    "collapsed": false
   }
  },
  {
   "cell_type": "code",
   "execution_count": 13,
   "outputs": [
    {
     "data": {
      "text/plain": "mean_math_score       58.527778\nmean_reading_score    69.000000\nName: (female, group A), dtype: float64"
     },
     "execution_count": 13,
     "metadata": {},
     "output_type": "execute_result"
    }
   ],
   "source": [
    "mean_scores.loc[('female', 'group A')]"
   ],
   "metadata": {
    "collapsed": false
   }
  },
  {
   "cell_type": "code",
   "execution_count": 19,
   "outputs": [
    {
     "data": {
      "text/plain": "   gender race/ethnicity  mean_math_score  mean_reading_score\n0  female        group A        58.527778           69.000000\n1  female        group B        61.403846           71.076923\n2  female        group C        62.033333           71.944444\n3  female        group D        65.248062           74.046512\n4  female        group E        70.811594           75.840580\n5    male        group A        63.735849           61.735849\n6    male        group B        65.930233           62.848837\n7    male        group C        67.611511           65.424460\n8    male        group D        69.413534           66.135338\n9    male        group E        76.746479           70.295775",
      "text/html": "<div>\n<style scoped>\n    .dataframe tbody tr th:only-of-type {\n        vertical-align: middle;\n    }\n\n    .dataframe tbody tr th {\n        vertical-align: top;\n    }\n\n    .dataframe thead th {\n        text-align: right;\n    }\n</style>\n<table border=\"1\" class=\"dataframe\">\n  <thead>\n    <tr style=\"text-align: right;\">\n      <th></th>\n      <th>gender</th>\n      <th>race/ethnicity</th>\n      <th>mean_math_score</th>\n      <th>mean_reading_score</th>\n    </tr>\n  </thead>\n  <tbody>\n    <tr>\n      <th>0</th>\n      <td>female</td>\n      <td>group A</td>\n      <td>58.527778</td>\n      <td>69.000000</td>\n    </tr>\n    <tr>\n      <th>1</th>\n      <td>female</td>\n      <td>group B</td>\n      <td>61.403846</td>\n      <td>71.076923</td>\n    </tr>\n    <tr>\n      <th>2</th>\n      <td>female</td>\n      <td>group C</td>\n      <td>62.033333</td>\n      <td>71.944444</td>\n    </tr>\n    <tr>\n      <th>3</th>\n      <td>female</td>\n      <td>group D</td>\n      <td>65.248062</td>\n      <td>74.046512</td>\n    </tr>\n    <tr>\n      <th>4</th>\n      <td>female</td>\n      <td>group E</td>\n      <td>70.811594</td>\n      <td>75.840580</td>\n    </tr>\n    <tr>\n      <th>5</th>\n      <td>male</td>\n      <td>group A</td>\n      <td>63.735849</td>\n      <td>61.735849</td>\n    </tr>\n    <tr>\n      <th>6</th>\n      <td>male</td>\n      <td>group B</td>\n      <td>65.930233</td>\n      <td>62.848837</td>\n    </tr>\n    <tr>\n      <th>7</th>\n      <td>male</td>\n      <td>group C</td>\n      <td>67.611511</td>\n      <td>65.424460</td>\n    </tr>\n    <tr>\n      <th>8</th>\n      <td>male</td>\n      <td>group D</td>\n      <td>69.413534</td>\n      <td>66.135338</td>\n    </tr>\n    <tr>\n      <th>9</th>\n      <td>male</td>\n      <td>group E</td>\n      <td>76.746479</td>\n      <td>70.295775</td>\n    </tr>\n  </tbody>\n</table>\n</div>"
     },
     "execution_count": 19,
     "metadata": {},
     "output_type": "execute_result"
    }
   ],
   "source": [
    "mean_scores = students_performance.groupby(['gender', 'race/ethnicity'], as_index=False) \\\n",
    "    .aggregate({'math_score': 'mean', 'reading_score': 'mean'}) \\\n",
    "    .rename(columns={'math_score': 'mean_math_score', 'reading_score':  'mean_reading_score'})\n",
    "mean_scores"
   ],
   "metadata": {
    "collapsed": false
   }
  },
  {
   "cell_type": "code",
   "execution_count": 20,
   "outputs": [
    {
     "data": {
      "text/plain": "81"
     },
     "execution_count": 20,
     "metadata": {},
     "output_type": "execute_result"
    }
   ],
   "source": [
    "# к колонкам как к пандовским сериям можно применять разные методы. Например, вывести все уникальные значения в столбце:\n",
    "students_performance.math_score.unique()\n",
    "#или посчитать число уникальных значений:\n",
    "students_performance.math_score.nunique()"
   ],
   "metadata": {
    "collapsed": false
   }
  },
  {
   "cell_type": "code",
   "execution_count": 23,
   "outputs": [
    {
     "data": {
      "text/plain": "gender  race/ethnicity\nfemale  group A           29\n        group B           51\n        group C           59\n        group D           53\n        group E           44\nmale    group A           38\n        group B           43\n        group C           56\n        group D           49\n        group E           38\nName: math_score, dtype: int64"
     },
     "execution_count": 23,
     "metadata": {},
     "output_type": "execute_result"
    }
   ],
   "source": [
    "# А сколько уникальных значений лежит на перессечении двух групп?\n",
    "students_performance.groupby(['gender', 'race/ethnicity']).math_score.nunique()\n",
    "#это пандовская серия, не датафрейм!"
   ],
   "metadata": {
    "collapsed": false
   }
  },
  {
   "cell_type": "code",
   "execution_count": 25,
   "outputs": [
    {
     "data": {
      "text/plain": "     gender race/ethnicity parental_level_of_education         lunch  \\\n149    male        group E          associate's degree  free/reduced   \n623    male        group A                some college      standard   \n625    male        group D                some college      standard   \n916    male        group E           bachelor's degree      standard   \n306    male        group E                some college      standard   \n..      ...            ...                         ...           ...   \n145  female        group C                some college  free/reduced   \n787  female        group B                some college      standard   \n17   female        group B            some high school  free/reduced   \n980  female        group B                 high school  free/reduced   \n59   female        group C            some high school  free/reduced   \n\n    test_preparation_course  math_score  reading_score  writing_score  \n149               completed         100            100             93  \n623               completed         100             96             86  \n625               completed         100             97             99  \n916               completed         100            100            100  \n306               completed          99             87             81  \n..                      ...         ...            ...            ...  \n145                    none          22             39             33  \n787                    none          19             38             32  \n17                     none          18             32             28  \n980                    none           8             24             23  \n59                     none           0             17             10  \n\n[1000 rows x 8 columns]",
      "text/html": "<div>\n<style scoped>\n    .dataframe tbody tr th:only-of-type {\n        vertical-align: middle;\n    }\n\n    .dataframe tbody tr th {\n        vertical-align: top;\n    }\n\n    .dataframe thead th {\n        text-align: right;\n    }\n</style>\n<table border=\"1\" class=\"dataframe\">\n  <thead>\n    <tr style=\"text-align: right;\">\n      <th></th>\n      <th>gender</th>\n      <th>race/ethnicity</th>\n      <th>parental_level_of_education</th>\n      <th>lunch</th>\n      <th>test_preparation_course</th>\n      <th>math_score</th>\n      <th>reading_score</th>\n      <th>writing_score</th>\n    </tr>\n  </thead>\n  <tbody>\n    <tr>\n      <th>149</th>\n      <td>male</td>\n      <td>group E</td>\n      <td>associate's degree</td>\n      <td>free/reduced</td>\n      <td>completed</td>\n      <td>100</td>\n      <td>100</td>\n      <td>93</td>\n    </tr>\n    <tr>\n      <th>623</th>\n      <td>male</td>\n      <td>group A</td>\n      <td>some college</td>\n      <td>standard</td>\n      <td>completed</td>\n      <td>100</td>\n      <td>96</td>\n      <td>86</td>\n    </tr>\n    <tr>\n      <th>625</th>\n      <td>male</td>\n      <td>group D</td>\n      <td>some college</td>\n      <td>standard</td>\n      <td>completed</td>\n      <td>100</td>\n      <td>97</td>\n      <td>99</td>\n    </tr>\n    <tr>\n      <th>916</th>\n      <td>male</td>\n      <td>group E</td>\n      <td>bachelor's degree</td>\n      <td>standard</td>\n      <td>completed</td>\n      <td>100</td>\n      <td>100</td>\n      <td>100</td>\n    </tr>\n    <tr>\n      <th>306</th>\n      <td>male</td>\n      <td>group E</td>\n      <td>some college</td>\n      <td>standard</td>\n      <td>completed</td>\n      <td>99</td>\n      <td>87</td>\n      <td>81</td>\n    </tr>\n    <tr>\n      <th>...</th>\n      <td>...</td>\n      <td>...</td>\n      <td>...</td>\n      <td>...</td>\n      <td>...</td>\n      <td>...</td>\n      <td>...</td>\n      <td>...</td>\n    </tr>\n    <tr>\n      <th>145</th>\n      <td>female</td>\n      <td>group C</td>\n      <td>some college</td>\n      <td>free/reduced</td>\n      <td>none</td>\n      <td>22</td>\n      <td>39</td>\n      <td>33</td>\n    </tr>\n    <tr>\n      <th>787</th>\n      <td>female</td>\n      <td>group B</td>\n      <td>some college</td>\n      <td>standard</td>\n      <td>none</td>\n      <td>19</td>\n      <td>38</td>\n      <td>32</td>\n    </tr>\n    <tr>\n      <th>17</th>\n      <td>female</td>\n      <td>group B</td>\n      <td>some high school</td>\n      <td>free/reduced</td>\n      <td>none</td>\n      <td>18</td>\n      <td>32</td>\n      <td>28</td>\n    </tr>\n    <tr>\n      <th>980</th>\n      <td>female</td>\n      <td>group B</td>\n      <td>high school</td>\n      <td>free/reduced</td>\n      <td>none</td>\n      <td>8</td>\n      <td>24</td>\n      <td>23</td>\n    </tr>\n    <tr>\n      <th>59</th>\n      <td>female</td>\n      <td>group C</td>\n      <td>some high school</td>\n      <td>free/reduced</td>\n      <td>none</td>\n      <td>0</td>\n      <td>17</td>\n      <td>10</td>\n    </tr>\n  </tbody>\n</table>\n<p>1000 rows × 8 columns</p>\n</div>"
     },
     "execution_count": 25,
     "metadata": {},
     "output_type": "execute_result"
    }
   ],
   "source": [
    "# группировку можно комбинировать и с другими ф-циями, не только агрегацией\n",
    "# задача - вывести топ 5 по математике среди М и Ж\n",
    "# сначала отсортируем датафрейм по полу и оценке по математике:\n",
    "students_performance.sort_values(['gender', 'math_score'], ascending=False)"
   ],
   "metadata": {
    "collapsed": false
   }
  },
  {
   "cell_type": "code",
   "execution_count": 26,
   "outputs": [
    {
     "data": {
      "text/plain": "     gender race/ethnicity parental_level_of_education         lunch  \\\n149    male        group E          associate's degree  free/reduced   \n623    male        group A                some college      standard   \n625    male        group D                some college      standard   \n916    male        group E           bachelor's degree      standard   \n306    male        group E                some college      standard   \n451  female        group E                some college      standard   \n458  female        group E           bachelor's degree      standard   \n962  female        group E          associate's degree      standard   \n114  female        group E           bachelor's degree      standard   \n263  female        group E                 high school      standard   \n\n    test_preparation_course  math_score  reading_score  writing_score  \n149               completed         100            100             93  \n623               completed         100             96             86  \n625               completed         100             97             99  \n916               completed         100            100            100  \n306               completed          99             87             81  \n451                    none         100             92             97  \n458                    none         100            100            100  \n962                    none         100            100            100  \n114               completed          99            100            100  \n263                    none          99             93             90  ",
      "text/html": "<div>\n<style scoped>\n    .dataframe tbody tr th:only-of-type {\n        vertical-align: middle;\n    }\n\n    .dataframe tbody tr th {\n        vertical-align: top;\n    }\n\n    .dataframe thead th {\n        text-align: right;\n    }\n</style>\n<table border=\"1\" class=\"dataframe\">\n  <thead>\n    <tr style=\"text-align: right;\">\n      <th></th>\n      <th>gender</th>\n      <th>race/ethnicity</th>\n      <th>parental_level_of_education</th>\n      <th>lunch</th>\n      <th>test_preparation_course</th>\n      <th>math_score</th>\n      <th>reading_score</th>\n      <th>writing_score</th>\n    </tr>\n  </thead>\n  <tbody>\n    <tr>\n      <th>149</th>\n      <td>male</td>\n      <td>group E</td>\n      <td>associate's degree</td>\n      <td>free/reduced</td>\n      <td>completed</td>\n      <td>100</td>\n      <td>100</td>\n      <td>93</td>\n    </tr>\n    <tr>\n      <th>623</th>\n      <td>male</td>\n      <td>group A</td>\n      <td>some college</td>\n      <td>standard</td>\n      <td>completed</td>\n      <td>100</td>\n      <td>96</td>\n      <td>86</td>\n    </tr>\n    <tr>\n      <th>625</th>\n      <td>male</td>\n      <td>group D</td>\n      <td>some college</td>\n      <td>standard</td>\n      <td>completed</td>\n      <td>100</td>\n      <td>97</td>\n      <td>99</td>\n    </tr>\n    <tr>\n      <th>916</th>\n      <td>male</td>\n      <td>group E</td>\n      <td>bachelor's degree</td>\n      <td>standard</td>\n      <td>completed</td>\n      <td>100</td>\n      <td>100</td>\n      <td>100</td>\n    </tr>\n    <tr>\n      <th>306</th>\n      <td>male</td>\n      <td>group E</td>\n      <td>some college</td>\n      <td>standard</td>\n      <td>completed</td>\n      <td>99</td>\n      <td>87</td>\n      <td>81</td>\n    </tr>\n    <tr>\n      <th>451</th>\n      <td>female</td>\n      <td>group E</td>\n      <td>some college</td>\n      <td>standard</td>\n      <td>none</td>\n      <td>100</td>\n      <td>92</td>\n      <td>97</td>\n    </tr>\n    <tr>\n      <th>458</th>\n      <td>female</td>\n      <td>group E</td>\n      <td>bachelor's degree</td>\n      <td>standard</td>\n      <td>none</td>\n      <td>100</td>\n      <td>100</td>\n      <td>100</td>\n    </tr>\n    <tr>\n      <th>962</th>\n      <td>female</td>\n      <td>group E</td>\n      <td>associate's degree</td>\n      <td>standard</td>\n      <td>none</td>\n      <td>100</td>\n      <td>100</td>\n      <td>100</td>\n    </tr>\n    <tr>\n      <th>114</th>\n      <td>female</td>\n      <td>group E</td>\n      <td>bachelor's degree</td>\n      <td>standard</td>\n      <td>completed</td>\n      <td>99</td>\n      <td>100</td>\n      <td>100</td>\n    </tr>\n    <tr>\n      <th>263</th>\n      <td>female</td>\n      <td>group E</td>\n      <td>high school</td>\n      <td>standard</td>\n      <td>none</td>\n      <td>99</td>\n      <td>93</td>\n      <td>90</td>\n    </tr>\n  </tbody>\n</table>\n</div>"
     },
     "execution_count": 26,
     "metadata": {},
     "output_type": "execute_result"
    }
   ],
   "source": [
    "# теперь остается просто сгруппировать данные по полу и вывести первые 5 значений (head)\n",
    "students_performance.sort_values(['gender', 'math_score'], ascending=False) \\\n",
    "    .groupby('gender').head(5)"
   ],
   "metadata": {
    "collapsed": false
   }
  },
  {
   "cell_type": "code",
   "execution_count": 29,
   "outputs": [
    {
     "data": {
      "text/plain": "   gender race/ethnicity parental_level_of_education         lunch  \\\n0  female        group B           bachelor's degree      standard   \n1  female        group C                some college      standard   \n2  female        group B             master's degree      standard   \n3    male        group A          associate's degree  free/reduced   \n4    male        group C                some college      standard   \n\n  test_preparation_course  math_score  reading_score  writing_score  \\\n0                    none          72             72             74   \n1               completed          69             90             88   \n2                    none          90             95             93   \n3                    none          47             57             44   \n4                    none          76             78             75   \n\n   total_score  \n0          218  \n1          247  \n2          278  \n3          148  \n4          229  ",
      "text/html": "<div>\n<style scoped>\n    .dataframe tbody tr th:only-of-type {\n        vertical-align: middle;\n    }\n\n    .dataframe tbody tr th {\n        vertical-align: top;\n    }\n\n    .dataframe thead th {\n        text-align: right;\n    }\n</style>\n<table border=\"1\" class=\"dataframe\">\n  <thead>\n    <tr style=\"text-align: right;\">\n      <th></th>\n      <th>gender</th>\n      <th>race/ethnicity</th>\n      <th>parental_level_of_education</th>\n      <th>lunch</th>\n      <th>test_preparation_course</th>\n      <th>math_score</th>\n      <th>reading_score</th>\n      <th>writing_score</th>\n      <th>total_score</th>\n    </tr>\n  </thead>\n  <tbody>\n    <tr>\n      <th>0</th>\n      <td>female</td>\n      <td>group B</td>\n      <td>bachelor's degree</td>\n      <td>standard</td>\n      <td>none</td>\n      <td>72</td>\n      <td>72</td>\n      <td>74</td>\n      <td>218</td>\n    </tr>\n    <tr>\n      <th>1</th>\n      <td>female</td>\n      <td>group C</td>\n      <td>some college</td>\n      <td>standard</td>\n      <td>completed</td>\n      <td>69</td>\n      <td>90</td>\n      <td>88</td>\n      <td>247</td>\n    </tr>\n    <tr>\n      <th>2</th>\n      <td>female</td>\n      <td>group B</td>\n      <td>master's degree</td>\n      <td>standard</td>\n      <td>none</td>\n      <td>90</td>\n      <td>95</td>\n      <td>93</td>\n      <td>278</td>\n    </tr>\n    <tr>\n      <th>3</th>\n      <td>male</td>\n      <td>group A</td>\n      <td>associate's degree</td>\n      <td>free/reduced</td>\n      <td>none</td>\n      <td>47</td>\n      <td>57</td>\n      <td>44</td>\n      <td>148</td>\n    </tr>\n    <tr>\n      <th>4</th>\n      <td>male</td>\n      <td>group C</td>\n      <td>some college</td>\n      <td>standard</td>\n      <td>none</td>\n      <td>76</td>\n      <td>78</td>\n      <td>75</td>\n      <td>229</td>\n    </tr>\n  </tbody>\n</table>\n</div>"
     },
     "execution_count": 29,
     "metadata": {},
     "output_type": "execute_result"
    }
   ],
   "source": [
    "# как создавать новые колонки в датафреймах? Самое простое - в лоб - задать название новой колонки и присвоить ей значения из новой пандовской серии\n",
    "students_performance['total_score'] = students_performance.math_score + students_performance.reading_score + students_performance.writing_score\n",
    "students_performance.head()"
   ],
   "metadata": {
    "collapsed": false
   }
  },
  {
   "cell_type": "code",
   "execution_count": 32,
   "outputs": [
    {
     "data": {
      "text/plain": "   gender race/ethnicity parental_level_of_education         lunch  \\\n0  female        group B           bachelor's degree      standard   \n1  female        group C                some college      standard   \n2  female        group B             master's degree      standard   \n3    male        group A          associate's degree  free/reduced   \n4    male        group C                some college      standard   \n\n  test_preparation_course  math_score  reading_score  writing_score  \\\n0                    none          72             72             74   \n1               completed          69             90             88   \n2                    none          90             95             93   \n3                    none          47             57             44   \n4                    none          76             78             75   \n\n   total_score  total_score_log  \n0          218         5.384495  \n1          247         5.509388  \n2          278         5.627621  \n3          148         4.997212  \n4          229         5.433722  ",
      "text/html": "<div>\n<style scoped>\n    .dataframe tbody tr th:only-of-type {\n        vertical-align: middle;\n    }\n\n    .dataframe tbody tr th {\n        vertical-align: top;\n    }\n\n    .dataframe thead th {\n        text-align: right;\n    }\n</style>\n<table border=\"1\" class=\"dataframe\">\n  <thead>\n    <tr style=\"text-align: right;\">\n      <th></th>\n      <th>gender</th>\n      <th>race/ethnicity</th>\n      <th>parental_level_of_education</th>\n      <th>lunch</th>\n      <th>test_preparation_course</th>\n      <th>math_score</th>\n      <th>reading_score</th>\n      <th>writing_score</th>\n      <th>total_score</th>\n      <th>total_score_log</th>\n    </tr>\n  </thead>\n  <tbody>\n    <tr>\n      <th>0</th>\n      <td>female</td>\n      <td>group B</td>\n      <td>bachelor's degree</td>\n      <td>standard</td>\n      <td>none</td>\n      <td>72</td>\n      <td>72</td>\n      <td>74</td>\n      <td>218</td>\n      <td>5.384495</td>\n    </tr>\n    <tr>\n      <th>1</th>\n      <td>female</td>\n      <td>group C</td>\n      <td>some college</td>\n      <td>standard</td>\n      <td>completed</td>\n      <td>69</td>\n      <td>90</td>\n      <td>88</td>\n      <td>247</td>\n      <td>5.509388</td>\n    </tr>\n    <tr>\n      <th>2</th>\n      <td>female</td>\n      <td>group B</td>\n      <td>master's degree</td>\n      <td>standard</td>\n      <td>none</td>\n      <td>90</td>\n      <td>95</td>\n      <td>93</td>\n      <td>278</td>\n      <td>5.627621</td>\n    </tr>\n    <tr>\n      <th>3</th>\n      <td>male</td>\n      <td>group A</td>\n      <td>associate's degree</td>\n      <td>free/reduced</td>\n      <td>none</td>\n      <td>47</td>\n      <td>57</td>\n      <td>44</td>\n      <td>148</td>\n      <td>4.997212</td>\n    </tr>\n    <tr>\n      <th>4</th>\n      <td>male</td>\n      <td>group C</td>\n      <td>some college</td>\n      <td>standard</td>\n      <td>none</td>\n      <td>76</td>\n      <td>78</td>\n      <td>75</td>\n      <td>229</td>\n      <td>5.433722</td>\n    </tr>\n  </tbody>\n</table>\n</div>"
     },
     "execution_count": 32,
     "metadata": {},
     "output_type": "execute_result"
    }
   ],
   "source": [
    "# Для более сложных ситуаций, когда вычисления сложнее, можно использовать ф-цию assign:\n",
    "students_performance = students_performance.assign(total_score_log = np.log(students_performance.total_score))\n",
    "students_performance.head()"
   ],
   "metadata": {
    "collapsed": false
   }
  },
  {
   "cell_type": "code",
   "execution_count": 34,
   "outputs": [
    {
     "data": {
      "text/plain": "   gender race/ethnicity parental_level_of_education         lunch  \\\n0  female        group B           bachelor's degree      standard   \n1  female        group C                some college      standard   \n2  female        group B             master's degree      standard   \n3    male        group A          associate's degree  free/reduced   \n4    male        group C                some college      standard   \n\n  test_preparation_course  math_score  reading_score  writing_score  \\\n0                    none          72             72             74   \n1               completed          69             90             88   \n2                    none          90             95             93   \n3                    none          47             57             44   \n4                    none          76             78             75   \n\n   total_score_log  \n0         5.384495  \n1         5.509388  \n2         5.627621  \n3         4.997212  \n4         5.433722  ",
      "text/html": "<div>\n<style scoped>\n    .dataframe tbody tr th:only-of-type {\n        vertical-align: middle;\n    }\n\n    .dataframe tbody tr th {\n        vertical-align: top;\n    }\n\n    .dataframe thead th {\n        text-align: right;\n    }\n</style>\n<table border=\"1\" class=\"dataframe\">\n  <thead>\n    <tr style=\"text-align: right;\">\n      <th></th>\n      <th>gender</th>\n      <th>race/ethnicity</th>\n      <th>parental_level_of_education</th>\n      <th>lunch</th>\n      <th>test_preparation_course</th>\n      <th>math_score</th>\n      <th>reading_score</th>\n      <th>writing_score</th>\n      <th>total_score_log</th>\n    </tr>\n  </thead>\n  <tbody>\n    <tr>\n      <th>0</th>\n      <td>female</td>\n      <td>group B</td>\n      <td>bachelor's degree</td>\n      <td>standard</td>\n      <td>none</td>\n      <td>72</td>\n      <td>72</td>\n      <td>74</td>\n      <td>5.384495</td>\n    </tr>\n    <tr>\n      <th>1</th>\n      <td>female</td>\n      <td>group C</td>\n      <td>some college</td>\n      <td>standard</td>\n      <td>completed</td>\n      <td>69</td>\n      <td>90</td>\n      <td>88</td>\n      <td>5.509388</td>\n    </tr>\n    <tr>\n      <th>2</th>\n      <td>female</td>\n      <td>group B</td>\n      <td>master's degree</td>\n      <td>standard</td>\n      <td>none</td>\n      <td>90</td>\n      <td>95</td>\n      <td>93</td>\n      <td>5.627621</td>\n    </tr>\n    <tr>\n      <th>3</th>\n      <td>male</td>\n      <td>group A</td>\n      <td>associate's degree</td>\n      <td>free/reduced</td>\n      <td>none</td>\n      <td>47</td>\n      <td>57</td>\n      <td>44</td>\n      <td>4.997212</td>\n    </tr>\n    <tr>\n      <th>4</th>\n      <td>male</td>\n      <td>group C</td>\n      <td>some college</td>\n      <td>standard</td>\n      <td>none</td>\n      <td>76</td>\n      <td>78</td>\n      <td>75</td>\n      <td>5.433722</td>\n    </tr>\n  </tbody>\n</table>\n</div>"
     },
     "execution_count": 34,
     "metadata": {},
     "output_type": "execute_result"
    }
   ],
   "source": [
    "# И метод для удаления колонок:\n",
    "students_performance.drop(['total_score'], axis=1).head()"
   ],
   "metadata": {
    "collapsed": false
   }
  },
  {
   "cell_type": "code",
   "execution_count": 45,
   "outputs": [
    {
     "data": {
      "text/plain": "      Unnamed: 0  attack_type  id  localized_name  name  primary_attr  roles\nlegs                                                                        \n0             11           11  11              11    11            11     11\n2             95           95  95              95    95            95     95\n4              7            7   7               7     7             7      7\n6              3            3   3               3     3             3      3\n8              1            1   1               1     1             1      1",
      "text/html": "<div>\n<style scoped>\n    .dataframe tbody tr th:only-of-type {\n        vertical-align: middle;\n    }\n\n    .dataframe tbody tr th {\n        vertical-align: top;\n    }\n\n    .dataframe thead th {\n        text-align: right;\n    }\n</style>\n<table border=\"1\" class=\"dataframe\">\n  <thead>\n    <tr style=\"text-align: right;\">\n      <th></th>\n      <th>Unnamed: 0</th>\n      <th>attack_type</th>\n      <th>id</th>\n      <th>localized_name</th>\n      <th>name</th>\n      <th>primary_attr</th>\n      <th>roles</th>\n    </tr>\n    <tr>\n      <th>legs</th>\n      <th></th>\n      <th></th>\n      <th></th>\n      <th></th>\n      <th></th>\n      <th></th>\n      <th></th>\n    </tr>\n  </thead>\n  <tbody>\n    <tr>\n      <th>0</th>\n      <td>11</td>\n      <td>11</td>\n      <td>11</td>\n      <td>11</td>\n      <td>11</td>\n      <td>11</td>\n      <td>11</td>\n    </tr>\n    <tr>\n      <th>2</th>\n      <td>95</td>\n      <td>95</td>\n      <td>95</td>\n      <td>95</td>\n      <td>95</td>\n      <td>95</td>\n      <td>95</td>\n    </tr>\n    <tr>\n      <th>4</th>\n      <td>7</td>\n      <td>7</td>\n      <td>7</td>\n      <td>7</td>\n      <td>7</td>\n      <td>7</td>\n      <td>7</td>\n    </tr>\n    <tr>\n      <th>6</th>\n      <td>3</td>\n      <td>3</td>\n      <td>3</td>\n      <td>3</td>\n      <td>3</td>\n      <td>3</td>\n      <td>3</td>\n    </tr>\n    <tr>\n      <th>8</th>\n      <td>1</td>\n      <td>1</td>\n      <td>1</td>\n      <td>1</td>\n      <td>1</td>\n      <td>1</td>\n      <td>1</td>\n    </tr>\n  </tbody>\n</table>\n</div>"
     },
     "execution_count": 45,
     "metadata": {},
     "output_type": "execute_result"
    }
   ],
   "source": [
    "dota_hero_stats = pd.read_csv('https://stepik.org/media/attachments/course/4852/dota_hero_stats.csv')\n",
    "dota_hero_stats.groupby('legs').count()"
   ],
   "metadata": {
    "collapsed": false
   }
  },
  {
   "cell_type": "code",
   "execution_count": 49,
   "outputs": [
    {
     "data": {
      "text/plain": "                          Unnamed: 0  id  legs  localized_name  name  roles\nattack_type primary_attr                                                   \nMelee       agi                   19  19    19              19    19     19\n            int                    2   2     2               2     2      2\n            str                   35  35    35              35    35     35\nRanged      agi                   18  18    18              18    18     18\n            int                   40  40    40              40    40     40\n            str                    3   3     3               3     3      3",
      "text/html": "<div>\n<style scoped>\n    .dataframe tbody tr th:only-of-type {\n        vertical-align: middle;\n    }\n\n    .dataframe tbody tr th {\n        vertical-align: top;\n    }\n\n    .dataframe thead th {\n        text-align: right;\n    }\n</style>\n<table border=\"1\" class=\"dataframe\">\n  <thead>\n    <tr style=\"text-align: right;\">\n      <th></th>\n      <th></th>\n      <th>Unnamed: 0</th>\n      <th>id</th>\n      <th>legs</th>\n      <th>localized_name</th>\n      <th>name</th>\n      <th>roles</th>\n    </tr>\n    <tr>\n      <th>attack_type</th>\n      <th>primary_attr</th>\n      <th></th>\n      <th></th>\n      <th></th>\n      <th></th>\n      <th></th>\n      <th></th>\n    </tr>\n  </thead>\n  <tbody>\n    <tr>\n      <th rowspan=\"3\" valign=\"top\">Melee</th>\n      <th>agi</th>\n      <td>19</td>\n      <td>19</td>\n      <td>19</td>\n      <td>19</td>\n      <td>19</td>\n      <td>19</td>\n    </tr>\n    <tr>\n      <th>int</th>\n      <td>2</td>\n      <td>2</td>\n      <td>2</td>\n      <td>2</td>\n      <td>2</td>\n      <td>2</td>\n    </tr>\n    <tr>\n      <th>str</th>\n      <td>35</td>\n      <td>35</td>\n      <td>35</td>\n      <td>35</td>\n      <td>35</td>\n      <td>35</td>\n    </tr>\n    <tr>\n      <th rowspan=\"3\" valign=\"top\">Ranged</th>\n      <th>agi</th>\n      <td>18</td>\n      <td>18</td>\n      <td>18</td>\n      <td>18</td>\n      <td>18</td>\n      <td>18</td>\n    </tr>\n    <tr>\n      <th>int</th>\n      <td>40</td>\n      <td>40</td>\n      <td>40</td>\n      <td>40</td>\n      <td>40</td>\n      <td>40</td>\n    </tr>\n    <tr>\n      <th>str</th>\n      <td>3</td>\n      <td>3</td>\n      <td>3</td>\n      <td>3</td>\n      <td>3</td>\n      <td>3</td>\n    </tr>\n  </tbody>\n</table>\n</div>"
     },
     "execution_count": 49,
     "metadata": {},
     "output_type": "execute_result"
    }
   ],
   "source": [
    "dota_hero_stats.groupby(['attack_type', 'primary_attr']).count()"
   ],
   "metadata": {
    "collapsed": false
   }
  },
  {
   "cell_type": "code",
   "execution_count": 48,
   "outputs": [
    {
     "data": {
      "text/plain": "                   Salary\nExecutor Type            \nLoopa    A      58.000000\n         B     145.166667\n         C     154.333333\n         D     137.714286\n         E     164.000000\n         F     238.000000\nPupa     A     160.833333\n         B      77.000000\n         C      74.500000\n         D     146.500000\n         E     131.200000\n         F     136.250000",
      "text/html": "<div>\n<style scoped>\n    .dataframe tbody tr th:only-of-type {\n        vertical-align: middle;\n    }\n\n    .dataframe tbody tr th {\n        vertical-align: top;\n    }\n\n    .dataframe thead th {\n        text-align: right;\n    }\n</style>\n<table border=\"1\" class=\"dataframe\">\n  <thead>\n    <tr style=\"text-align: right;\">\n      <th></th>\n      <th></th>\n      <th>Salary</th>\n    </tr>\n    <tr>\n      <th>Executor</th>\n      <th>Type</th>\n      <th></th>\n    </tr>\n  </thead>\n  <tbody>\n    <tr>\n      <th rowspan=\"6\" valign=\"top\">Loopa</th>\n      <th>A</th>\n      <td>58.000000</td>\n    </tr>\n    <tr>\n      <th>B</th>\n      <td>145.166667</td>\n    </tr>\n    <tr>\n      <th>C</th>\n      <td>154.333333</td>\n    </tr>\n    <tr>\n      <th>D</th>\n      <td>137.714286</td>\n    </tr>\n    <tr>\n      <th>E</th>\n      <td>164.000000</td>\n    </tr>\n    <tr>\n      <th>F</th>\n      <td>238.000000</td>\n    </tr>\n    <tr>\n      <th rowspan=\"6\" valign=\"top\">Pupa</th>\n      <th>A</th>\n      <td>160.833333</td>\n    </tr>\n    <tr>\n      <th>B</th>\n      <td>77.000000</td>\n    </tr>\n    <tr>\n      <th>C</th>\n      <td>74.500000</td>\n    </tr>\n    <tr>\n      <th>D</th>\n      <td>146.500000</td>\n    </tr>\n    <tr>\n      <th>E</th>\n      <td>131.200000</td>\n    </tr>\n    <tr>\n      <th>F</th>\n      <td>136.250000</td>\n    </tr>\n  </tbody>\n</table>\n</div>"
     },
     "execution_count": 48,
     "metadata": {},
     "output_type": "execute_result"
    }
   ],
   "source": [
    "lupa_and_pupa = pd.read_csv('https://stepik.org/media/attachments/course/4852/accountancy.csv')\n",
    "lupa_and_pupa\n",
    "lupa_and_pupa.groupby(['Executor', 'Type']).aggregate({'Salary': 'mean'})"
   ],
   "metadata": {
    "collapsed": false
   }
  },
  {
   "cell_type": "code",
   "execution_count": 55,
   "outputs": [
    {
     "data": {
      "text/plain": "              sucrose    alanin   citrate   glucose  oleic_acid\ngenus                                                          \nAscophyllum  6.825467  0.875429  5.253527  3.414961    2.432526\nCladophora   4.008792  3.997055  5.288311  2.800276    2.263472\nFucus        4.355112  3.566411  4.214878  2.814803    3.367647\nPalmaria     0.704580  3.176440  5.573905  3.242090    2.245538\nSaccharina   4.183596  3.524207  3.346710  4.980594    4.487252",
      "text/html": "<div>\n<style scoped>\n    .dataframe tbody tr th:only-of-type {\n        vertical-align: middle;\n    }\n\n    .dataframe tbody tr th {\n        vertical-align: top;\n    }\n\n    .dataframe thead th {\n        text-align: right;\n    }\n</style>\n<table border=\"1\" class=\"dataframe\">\n  <thead>\n    <tr style=\"text-align: right;\">\n      <th></th>\n      <th>sucrose</th>\n      <th>alanin</th>\n      <th>citrate</th>\n      <th>glucose</th>\n      <th>oleic_acid</th>\n    </tr>\n    <tr>\n      <th>genus</th>\n      <th></th>\n      <th></th>\n      <th></th>\n      <th></th>\n      <th></th>\n    </tr>\n  </thead>\n  <tbody>\n    <tr>\n      <th>Ascophyllum</th>\n      <td>6.825467</td>\n      <td>0.875429</td>\n      <td>5.253527</td>\n      <td>3.414961</td>\n      <td>2.432526</td>\n    </tr>\n    <tr>\n      <th>Cladophora</th>\n      <td>4.008792</td>\n      <td>3.997055</td>\n      <td>5.288311</td>\n      <td>2.800276</td>\n      <td>2.263472</td>\n    </tr>\n    <tr>\n      <th>Fucus</th>\n      <td>4.355112</td>\n      <td>3.566411</td>\n      <td>4.214878</td>\n      <td>2.814803</td>\n      <td>3.367647</td>\n    </tr>\n    <tr>\n      <th>Palmaria</th>\n      <td>0.704580</td>\n      <td>3.176440</td>\n      <td>5.573905</td>\n      <td>3.242090</td>\n      <td>2.245538</td>\n    </tr>\n    <tr>\n      <th>Saccharina</th>\n      <td>4.183596</td>\n      <td>3.524207</td>\n      <td>3.346710</td>\n      <td>4.980594</td>\n      <td>4.487252</td>\n    </tr>\n  </tbody>\n</table>\n</div>"
     },
     "execution_count": 55,
     "metadata": {},
     "output_type": "execute_result"
    }
   ],
   "source": [
    "concentrations = pd.read_csv('http://stepik.org/media/attachments/course/4852/algae.csv')\n",
    "#sucrose, alanin, citrate, glucose, oleic_acid\n",
    "mean_concentrations = concentrations.groupby('genus').aggregate({'sucrose':'mean', 'alanin':'mean', 'citrate':'mean', 'glucose':'mean', 'oleic_acid':'mean'})\n",
    "mean_concentrations"
   ],
   "metadata": {
    "collapsed": false
   }
  },
  {
   "cell_type": "code",
   "execution_count": 65,
   "outputs": [
    {
     "data": {
      "text/plain": "      sucrose                                                             \\\n        count      mean       std       min       25%      50%       75%   \ngroup                                                                      \nbrown     6.0  4.709666  2.336471  1.636122  3.070321  5.00397  6.773014   \ngreen     3.0  4.008792  1.634817  2.452623  3.157047  3.86147  4.786877   \nred       1.0  0.704580       NaN  0.704580  0.704580  0.70458  0.704580   \n\n                alanin            ...   glucose           oleic_acid  \\\n            max  count      mean  ...       75%       max      count   \ngroup                             ...                                  \nbrown  6.825467    6.0  3.103846  ...  3.866782  6.013219        6.0   \ngreen  5.712284    3.0  3.997055  ...  3.041936  3.343707        3.0   \nred    0.704580    1.0  3.176440  ...  3.242090  3.242090        1.0   \n\n                                                                             \n           mean       std       min       25%       50%       75%       max  \ngroup                                                                        \nbrown  3.584995  2.094095  0.304573  2.672695  3.774952  4.652528  6.405165  \ngreen  2.263472  0.735111  1.432514  1.980700  2.528886  2.678951  2.829016  \nred    2.245538       NaN  2.245538  2.245538  2.245538  2.245538  2.245538  \n\n[3 rows x 40 columns]",
      "text/html": "<div>\n<style scoped>\n    .dataframe tbody tr th:only-of-type {\n        vertical-align: middle;\n    }\n\n    .dataframe tbody tr th {\n        vertical-align: top;\n    }\n\n    .dataframe thead tr th {\n        text-align: left;\n    }\n\n    .dataframe thead tr:last-of-type th {\n        text-align: right;\n    }\n</style>\n<table border=\"1\" class=\"dataframe\">\n  <thead>\n    <tr>\n      <th></th>\n      <th colspan=\"8\" halign=\"left\">sucrose</th>\n      <th colspan=\"2\" halign=\"left\">alanin</th>\n      <th>...</th>\n      <th colspan=\"2\" halign=\"left\">glucose</th>\n      <th colspan=\"8\" halign=\"left\">oleic_acid</th>\n    </tr>\n    <tr>\n      <th></th>\n      <th>count</th>\n      <th>mean</th>\n      <th>std</th>\n      <th>min</th>\n      <th>25%</th>\n      <th>50%</th>\n      <th>75%</th>\n      <th>max</th>\n      <th>count</th>\n      <th>mean</th>\n      <th>...</th>\n      <th>75%</th>\n      <th>max</th>\n      <th>count</th>\n      <th>mean</th>\n      <th>std</th>\n      <th>min</th>\n      <th>25%</th>\n      <th>50%</th>\n      <th>75%</th>\n      <th>max</th>\n    </tr>\n    <tr>\n      <th>group</th>\n      <th></th>\n      <th></th>\n      <th></th>\n      <th></th>\n      <th></th>\n      <th></th>\n      <th></th>\n      <th></th>\n      <th></th>\n      <th></th>\n      <th></th>\n      <th></th>\n      <th></th>\n      <th></th>\n      <th></th>\n      <th></th>\n      <th></th>\n      <th></th>\n      <th></th>\n      <th></th>\n      <th></th>\n    </tr>\n  </thead>\n  <tbody>\n    <tr>\n      <th>brown</th>\n      <td>6.0</td>\n      <td>4.709666</td>\n      <td>2.336471</td>\n      <td>1.636122</td>\n      <td>3.070321</td>\n      <td>5.00397</td>\n      <td>6.773014</td>\n      <td>6.825467</td>\n      <td>6.0</td>\n      <td>3.103846</td>\n      <td>...</td>\n      <td>3.866782</td>\n      <td>6.013219</td>\n      <td>6.0</td>\n      <td>3.584995</td>\n      <td>2.094095</td>\n      <td>0.304573</td>\n      <td>2.672695</td>\n      <td>3.774952</td>\n      <td>4.652528</td>\n      <td>6.405165</td>\n    </tr>\n    <tr>\n      <th>green</th>\n      <td>3.0</td>\n      <td>4.008792</td>\n      <td>1.634817</td>\n      <td>2.452623</td>\n      <td>3.157047</td>\n      <td>3.86147</td>\n      <td>4.786877</td>\n      <td>5.712284</td>\n      <td>3.0</td>\n      <td>3.997055</td>\n      <td>...</td>\n      <td>3.041936</td>\n      <td>3.343707</td>\n      <td>3.0</td>\n      <td>2.263472</td>\n      <td>0.735111</td>\n      <td>1.432514</td>\n      <td>1.980700</td>\n      <td>2.528886</td>\n      <td>2.678951</td>\n      <td>2.829016</td>\n    </tr>\n    <tr>\n      <th>red</th>\n      <td>1.0</td>\n      <td>0.704580</td>\n      <td>NaN</td>\n      <td>0.704580</td>\n      <td>0.704580</td>\n      <td>0.70458</td>\n      <td>0.704580</td>\n      <td>0.704580</td>\n      <td>1.0</td>\n      <td>3.176440</td>\n      <td>...</td>\n      <td>3.242090</td>\n      <td>3.242090</td>\n      <td>1.0</td>\n      <td>2.245538</td>\n      <td>NaN</td>\n      <td>2.245538</td>\n      <td>2.245538</td>\n      <td>2.245538</td>\n      <td>2.245538</td>\n      <td>2.245538</td>\n    </tr>\n  </tbody>\n</table>\n<p>3 rows × 40 columns</p>\n</div>"
     },
     "execution_count": 65,
     "metadata": {},
     "output_type": "execute_result"
    }
   ],
   "source": [
    "concentrations.groupby('group').describe()"
   ],
   "metadata": {
    "collapsed": false
   }
  }
 ],
 "metadata": {
  "kernelspec": {
   "display_name": "Python 3",
   "language": "python",
   "name": "python3"
  },
  "language_info": {
   "codemirror_mode": {
    "name": "ipython",
    "version": 2
   },
   "file_extension": ".py",
   "mimetype": "text/x-python",
   "name": "python",
   "nbconvert_exporter": "python",
   "pygments_lexer": "ipython2",
   "version": "2.7.6"
  }
 },
 "nbformat": 4,
 "nbformat_minor": 0
}
